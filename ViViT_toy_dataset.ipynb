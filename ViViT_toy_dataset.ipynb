{
 "cells": [
  {
   "cell_type": "code",
   "execution_count": 1,
   "id": "fd8ef81e",
   "metadata": {},
   "outputs": [],
   "source": [
    "# running ViViT with 3D MNIST dataset \n",
    "\n",
    "# Code source of implementation of ViViT: https://github.com/rishikksh20/ViViT-pytorch\n",
    "\n",
    "\n",
    "# Only model 2 from ViViT: A Video Transformer is implemented "
   ]
  },
  {
   "cell_type": "code",
   "execution_count": 1,
   "id": "ec2d3c61",
   "metadata": {},
   "outputs": [],
   "source": [
    "import torch\n",
    "from torch import nn, einsum\n",
    "import torch.nn.functional as F\n",
    "from einops import rearrange, repeat\n",
    "from einops.layers.torch import Rearrange\n",
    "from module import Attention, PreNorm, FeedForward\n",
    "from scipy import ndimage\n",
    "import numpy as np\n",
    "import random\n",
    "\n",
    "from MNIST_3D_data import MNIST_3D_Growing, MNIST_3D_Random_Rotation, MNIST_3D_Gaussian_Noise, scipy_clipped_zoom_3d\n",
    "from vivit import ViViT "
   ]
  },
  {
   "cell_type": "code",
   "execution_count": 2,
   "id": "38cd01a1",
   "metadata": {},
   "outputs": [
    {
     "name": "stdout",
     "output_type": "stream",
     "text": [
      "[ Using Seed :  10  ]\n"
     ]
    }
   ],
   "source": [
    "# set seed\n",
    "def seed_all(seed=10):\n",
    "\n",
    "\n",
    "    print(\"[ Using Seed : \", seed, \" ]\")\n",
    "\n",
    "    torch.manual_seed(seed)\n",
    "    torch.cuda.manual_seed_all(seed)\n",
    "    torch.cuda.manual_seed(seed)\n",
    "    np.random.seed(seed)\n",
    "    random.seed(seed)\n",
    "    torch.backends.cudnn.deterministic = True\n",
    "    torch.backends.cudnn.benchmark = False\n",
    "\n",
    "seed_all()"
   ]
  },
  {
   "cell_type": "markdown",
   "id": "19090303",
   "metadata": {},
   "source": [
    "### Loading 3DMnist data"
   ]
  },
  {
   "cell_type": "code",
   "execution_count": 3,
   "id": "aa25136c",
   "metadata": {},
   "outputs": [],
   "source": [
    "from torchvision import transforms, utils\n",
    "transforms = transforms.Compose([\n",
    "    MNIST_3D_Random_Rotation(max_angle = 15),\n",
    "    MNIST_3D_Gaussian_Noise(mean = 0, var = 0.000001)\n",
    "])"
   ]
  },
  {
   "cell_type": "code",
   "execution_count": 4,
   "id": "56b2cbfa",
   "metadata": {},
   "outputs": [],
   "source": [
    "config = {\n",
    "    'num_train_data': 1000,\n",
    "    'num_test_data' : 200,\n",
    "    'class_names' : ['non', \n",
    "                   'slow_g',\n",
    "                   'steady_g',\n",
    "                   'fast_g',\n",
    "                   'slow_s',\n",
    "                   'steady_s',\n",
    "                   'fast_s'],\n",
    "    'class_growth_rates' : {'non' : 1,\n",
    "                          'slow_g' :1.1,\n",
    "                          'steady_g':1.2,\n",
    "                          'fast_g': 1.3,\n",
    "                          'slow_s': 0.9,\n",
    "                          'steady_s': 0.8,\n",
    "                          'fast_s': 0.75}\n",
    "\n",
    "}"
   ]
  },
  {
   "cell_type": "code",
   "execution_count": 5,
   "id": "98b66d4d",
   "metadata": {},
   "outputs": [],
   "source": [
    "save_path = './dataset/3D_MNIST_vanilla.npz'\n",
    "training_data = MNIST_3D_Growing(save_path, scipy_clipped_zoom_3d, \n",
    "                                 config['num_train_data'],  \n",
    "                                 train = True,\n",
    "                                 transforms = transforms,\n",
    "                                 class_names = config['class_names'],  \n",
    "                                 class_growth_factors = config['class_growth_rates']\n",
    "                                 \n",
    "                                )\n",
    "testing_data = MNIST_3D_Growing(save_path, scipy_clipped_zoom_3d, \n",
    "                                 config['num_test_data'],\n",
    "                                 train = False,\n",
    "                                transforms = transforms,\n",
    "                                class_names = config['class_names'],  \n",
    "                                 class_growth_factors = config['class_growth_rates']\n",
    "                                \n",
    "                                )"
   ]
  },
  {
   "cell_type": "code",
   "execution_count": 6,
   "id": "144aab00",
   "metadata": {},
   "outputs": [],
   "source": [
    "def seed_worker(worker_id):\n",
    "    worker_seed = torch.initial_seed() % 2**32\n",
    "    numpy.random.seed(worker_seed)\n",
    "    random.seed(worker_seed)\n",
    "    \n",
    "g = torch.Generator()\n",
    "g.manual_seed(0)\n",
    "\n",
    "training_generator = torch.utils.data.DataLoader(training_data, batch_size=16,worker_init_fn=seed_worker,\n",
    "        generator=g)\n",
    "testing_generator = torch.utils.data.DataLoader(testing_data, batch_size=16,worker_init_fn=seed_worker,\n",
    "        generator=g)\n"
   ]
  },
  {
   "cell_type": "code",
   "execution_count": 7,
   "id": "3bc1c5a8",
   "metadata": {
    "scrolled": true
   },
   "outputs": [],
   "source": [
    "# train_features, train_labels = next(iter(training_generator))\n",
    "# train_features.shape\n",
    "# batch size = 16, time steps = 3, 28 x 28 x 28 image"
   ]
  },
  {
   "cell_type": "markdown",
   "id": "b0796874",
   "metadata": {},
   "source": [
    "### Initializing model"
   ]
  },
  {
   "cell_type": "code",
   "execution_count": 21,
   "id": "6aca138a",
   "metadata": {},
   "outputs": [],
   "source": [
    "# documenting the ViViT class from https://github.com/rishikksh20/ViViT-pytorch\n",
    "\n",
    "# def __init__(self, image_size, patch_size, num_classes, num_frames, dim = 192, depth = 4, heads = 3, pool = 'cls', in_channels = 3, dim_head = 64, dropout = 0.,\n",
    "#                 emb_dropout = 0., scale_dim = 4, ):\n",
    "        \n",
    "# image size: height = width of image \n",
    "# patch size: size of the little patches where an image will be divided into \n",
    "# num classes\n",
    "# num frames \n",
    "# dim: dimension of the input zl (rasterized image patch) \n",
    "# depth: number of attention layers\n",
    "# heads: number of heads in an attention layer \n",
    "# pool: pool type must be either cls (cls token) or mean (mean pooling)\n",
    "# in_channels: number of channels of input\n",
    "# dim_head: dimensions of the heads\n",
    "\n",
    "# vivit_input = {\n",
    "#     'image_size': 28,\n",
    "#     'patch_size': 14, \n",
    "#     'num_classes': len(config[\"class_names\"]),\n",
    "#     'num_frames': 3, \n",
    "#     'in_channels': 1\n",
    "# }\n",
    "\n",
    "# model = ViViT(image_size=vivit_input[\"image_size\"], \n",
    "#               patch_size=vivit_input[\"patch_size\"], \n",
    "#               num_classes=vivit_input[\"num_classes\"], \n",
    "#               num_frames=vivit_input[\"num_frames\"], \n",
    "#               in_channels=vivit_input[\"in_channels\"])\n",
    "\n",
    "\n"
   ]
  },
  {
   "cell_type": "code",
   "execution_count": 7,
   "id": "8eb98122",
   "metadata": {},
   "outputs": [
    {
     "name": "stdout",
     "output_type": "stream",
     "text": [
      "cpu\n"
     ]
    }
   ],
   "source": [
    "if torch.cuda.is_available():\n",
    "    print(torch.cuda.get_device_name(0))\n",
    "    device = torch.device('cuda:0')\n",
    "    torch.set_default_tensor_type('torch.cuda.FloatTensor')\n",
    "else:\n",
    "    print('cpu')\n",
    "    device = torch.device('cpu')"
   ]
  },
  {
   "cell_type": "code",
   "execution_count": 8,
   "id": "d3d0dd6b",
   "metadata": {},
   "outputs": [],
   "source": [
    "# source: https://github.com/bdrad/project-conv-meleon/blob/3DMNIST/ConvLSTM_3D_training_loop.ipynb\n",
    "\n",
    "def validate(model, data_loader):\n",
    "        model.eval()\n",
    "        correct = 0\n",
    "        with torch.no_grad():\n",
    "            for features, labels in data_loader:\n",
    "                features = features.to(torch.float)\n",
    "                \n",
    "                # reshaping input into the model to match the dimensions\n",
    "                # num frame x channels x height x width \n",
    "                features = torch.unsqueeze(torch.squeeze(features), 2)\n",
    "                \n",
    "                labels = labels.to(torch.long)\n",
    "                features = features.to(device)\n",
    "                labels = labels.to(device)\n",
    "                outputs = torch.argmax(model(features), dim=1)\n",
    "                correct += int(torch.sum(outputs==labels))\n",
    "        print(f'Validation Accuracy: {correct/(len(data_loader) * data_loader.batch_size) * 100:.3f}%')\n",
    "        return correct/(len(data_loader) * data_loader.batch_size) * 100\n",
    "\n",
    "def save_model(model, savepath):\n",
    "    torch.save(model.state_dict(), savepath)"
   ]
  },
  {
   "cell_type": "markdown",
   "id": "d9d7f4aa",
   "metadata": {},
   "source": [
    "### Training loop"
   ]
  },
  {
   "cell_type": "code",
   "execution_count": 10,
   "id": "083a535b",
   "metadata": {},
   "outputs": [],
   "source": [
    "\n",
    "\n",
    "model_log = {\n",
    "    \"validation_accuracy\": [], \n",
    "    \"training_loss\": []\n",
    "}\n"
   ]
  },
  {
   "cell_type": "code",
   "execution_count": 15,
   "id": "de733b68",
   "metadata": {},
   "outputs": [],
   "source": [
    "import time\n",
    "\n",
    "def training_loop(iteration, training_dataloader, testing_dataloader, vivit_input):\n",
    "    \n",
    "    \n",
    "    \n",
    "    model = ViViT(image_size=vivit_input[\"image_size\"], \n",
    "                  patch_size=vivit_input[\"patch_size\"], \n",
    "                  num_classes=vivit_input[\"num_classes\"], \n",
    "                  num_frames=vivit_input[\"num_frames\"], \n",
    "                  in_channels=vivit_input[\"in_channels\"])\n",
    "    \n",
    "    #hyperparameters\n",
    "    epochs=10\n",
    "    learning_rate = 1e-4\n",
    "    criterion = nn.CrossEntropyLoss()\n",
    "    optimizer = torch.optim.Adam(model.parameters(), lr=learning_rate)\n",
    "\n",
    "    \n",
    "    validation_acc = []\n",
    "    training_loss = []\n",
    "    \n",
    "    for epoch in range(epochs):\n",
    "\n",
    "        start = time.time()\n",
    "\n",
    "        model.train()\n",
    "        current_train_loss = 0\n",
    "        length = 0\n",
    "        for x, y in training_dataloader:\n",
    "            optimizer.zero_grad()\n",
    "\n",
    "            # reshape data to fit into model \n",
    "            # x should have the dimensions batch x num frame x channels x height x width x depth\n",
    "            x = torch.squeeze(x)\n",
    "            x = torch.unsqueeze(x, 2)\n",
    "\n",
    "            x = x.to(device).type(torch.float32)\n",
    "            y = y.to(device).long()\n",
    "\n",
    "            output = model(x)\n",
    "            loss = criterion(output, y)\n",
    "            current_train_loss += float(loss.item())\n",
    "            length += x.shape[0]\n",
    "            # ===================backward====================\n",
    "            loss.backward()\n",
    "            optimizer.step()\n",
    "        # ===================log========================\n",
    "        current_train_loss = current_train_loss / length\n",
    "\n",
    "        print(\"Epoch {} of iteration {} training loss: {}\".format(epoch+1, iteration, current_train_loss))\n",
    "        val_acc = validate(model, testing_dataloader)\n",
    "        validation_acc.append(val_acc)\n",
    "        training_loss.append(current_train_loss)\n",
    "\n",
    "        end = time.time()\n",
    "        print(\"time elapsed: {} seconds\".format(end-start))\n",
    "        \n",
    "    return validation_acc, training_loss"
   ]
  },
  {
   "cell_type": "code",
   "execution_count": 17,
   "id": "051be2fe",
   "metadata": {
    "scrolled": false
   },
   "outputs": [
    {
     "name": "stdout",
     "output_type": "stream",
     "text": [
      "Epoch 1 of iteration 0 training loss: 0.10304774498939515\n",
      "Validation Accuracy: 48.558%\n",
      "time elapsed: 12.542895078659058 seconds\n",
      "Epoch 2 of iteration 0 training loss: 0.052501707196235654\n",
      "Validation Accuracy: 64.423%\n",
      "time elapsed: 12.778615951538086 seconds\n",
      "Epoch 3 of iteration 0 training loss: 0.036451172679662705\n",
      "Validation Accuracy: 70.192%\n",
      "time elapsed: 12.811910152435303 seconds\n",
      "Epoch 4 of iteration 0 training loss: 0.02325352492928505\n",
      "Validation Accuracy: 69.231%\n",
      "time elapsed: 12.56761908531189 seconds\n",
      "Epoch 5 of iteration 0 training loss: 0.01455513820797205\n",
      "Validation Accuracy: 75.000%\n",
      "time elapsed: 12.603848218917847 seconds\n",
      "Epoch 6 of iteration 0 training loss: 0.010681383408606053\n",
      "Validation Accuracy: 75.000%\n",
      "time elapsed: 12.638353109359741 seconds\n",
      "Epoch 7 of iteration 0 training loss: 0.007789501659572124\n",
      "Validation Accuracy: 64.904%\n",
      "time elapsed: 12.651286840438843 seconds\n",
      "Epoch 8 of iteration 0 training loss: 0.011016113149002195\n",
      "Validation Accuracy: 69.712%\n",
      "time elapsed: 12.65744686126709 seconds\n",
      "Epoch 9 of iteration 0 training loss: 0.006319400560110808\n",
      "Validation Accuracy: 78.365%\n",
      "time elapsed: 12.660302877426147 seconds\n",
      "Epoch 10 of iteration 0 training loss: 0.0024085946097038686\n",
      "Validation Accuracy: 81.731%\n",
      "time elapsed: 12.681802034378052 seconds\n",
      "Epoch 1 of iteration 1 training loss: 0.09823015993833542\n",
      "Validation Accuracy: 48.077%\n",
      "time elapsed: 12.65757703781128 seconds\n",
      "Epoch 2 of iteration 1 training loss: 0.050743984371423724\n",
      "Validation Accuracy: 62.500%\n",
      "time elapsed: 12.661923885345459 seconds\n",
      "Epoch 3 of iteration 1 training loss: 0.03625777171552181\n",
      "Validation Accuracy: 77.404%\n",
      "time elapsed: 12.68821406364441 seconds\n",
      "Epoch 4 of iteration 1 training loss: 0.019875752545893192\n",
      "Validation Accuracy: 75.000%\n",
      "time elapsed: 12.662260055541992 seconds\n",
      "Epoch 5 of iteration 1 training loss: 0.015176900856196881\n",
      "Validation Accuracy: 78.365%\n",
      "time elapsed: 12.653231859207153 seconds\n",
      "Epoch 6 of iteration 1 training loss: 0.012034051412716507\n",
      "Validation Accuracy: 82.212%\n",
      "time elapsed: 12.674113035202026 seconds\n",
      "Epoch 7 of iteration 1 training loss: 0.008662750905379654\n",
      "Validation Accuracy: 80.769%\n",
      "time elapsed: 12.659674882888794 seconds\n",
      "Epoch 8 of iteration 1 training loss: 0.007086527335457503\n",
      "Validation Accuracy: 81.250%\n",
      "time elapsed: 12.683120250701904 seconds\n",
      "Epoch 9 of iteration 1 training loss: 0.0045049991374835376\n",
      "Validation Accuracy: 76.442%\n",
      "time elapsed: 12.649662017822266 seconds\n",
      "Epoch 10 of iteration 1 training loss: 0.004530124195385724\n",
      "Validation Accuracy: 86.058%\n",
      "time elapsed: 12.665707111358643 seconds\n",
      "Epoch 1 of iteration 2 training loss: 0.10224813759326935\n",
      "Validation Accuracy: 46.635%\n",
      "time elapsed: 12.657281637191772 seconds\n",
      "Epoch 2 of iteration 2 training loss: 0.05367353558540344\n",
      "Validation Accuracy: 62.019%\n",
      "time elapsed: 12.678405046463013 seconds\n",
      "Epoch 3 of iteration 2 training loss: 0.036242469012737276\n",
      "Validation Accuracy: 73.077%\n",
      "time elapsed: 12.651197910308838 seconds\n",
      "Epoch 4 of iteration 2 training loss: 0.022864621251821517\n",
      "Validation Accuracy: 68.750%\n",
      "time elapsed: 12.664935827255249 seconds\n",
      "Epoch 5 of iteration 2 training loss: 0.013377503618597984\n",
      "Validation Accuracy: 73.077%\n",
      "time elapsed: 12.652833938598633 seconds\n",
      "Epoch 6 of iteration 2 training loss: 0.012030557433143258\n",
      "Validation Accuracy: 75.481%\n",
      "time elapsed: 12.650551080703735 seconds\n",
      "Epoch 7 of iteration 2 training loss: 0.008573523707687854\n",
      "Validation Accuracy: 76.442%\n",
      "time elapsed: 12.660508871078491 seconds\n",
      "Epoch 8 of iteration 2 training loss: 0.007047424371354282\n",
      "Validation Accuracy: 80.769%\n",
      "time elapsed: 12.666094064712524 seconds\n",
      "Epoch 9 of iteration 2 training loss: 0.0028669218909926713\n",
      "Validation Accuracy: 81.731%\n",
      "time elapsed: 12.654423236846924 seconds\n",
      "Epoch 10 of iteration 2 training loss: 0.002650383221451193\n",
      "Validation Accuracy: 80.769%\n",
      "time elapsed: 12.659414052963257 seconds\n",
      "Epoch 1 of iteration 3 training loss: 0.09795900994539261\n",
      "Validation Accuracy: 51.442%\n",
      "time elapsed: 12.672187805175781 seconds\n",
      "Epoch 2 of iteration 3 training loss: 0.05100935554504395\n",
      "Validation Accuracy: 64.904%\n",
      "time elapsed: 12.6768319606781 seconds\n",
      "Epoch 3 of iteration 3 training loss: 0.03389591062068939\n",
      "Validation Accuracy: 68.750%\n",
      "time elapsed: 12.656760215759277 seconds\n",
      "Epoch 4 of iteration 3 training loss: 0.02106425951421261\n",
      "Validation Accuracy: 74.519%\n",
      "time elapsed: 12.658759117126465 seconds\n",
      "Epoch 5 of iteration 3 training loss: 0.015478992916643619\n",
      "Validation Accuracy: 81.731%\n",
      "time elapsed: 12.652836084365845 seconds\n",
      "Epoch 6 of iteration 3 training loss: 0.011131410818547011\n",
      "Validation Accuracy: 77.404%\n",
      "time elapsed: 12.655765056610107 seconds\n",
      "Epoch 7 of iteration 3 training loss: 0.005976018945686519\n",
      "Validation Accuracy: 78.365%\n",
      "time elapsed: 12.664933919906616 seconds\n",
      "Epoch 8 of iteration 3 training loss: 0.0045585875120013955\n",
      "Validation Accuracy: 83.173%\n",
      "time elapsed: 12.653317928314209 seconds\n",
      "Epoch 9 of iteration 3 training loss: 0.003020334771834314\n",
      "Validation Accuracy: 84.135%\n",
      "time elapsed: 12.663403034210205 seconds\n",
      "Epoch 10 of iteration 3 training loss: 0.0054868901707232\n",
      "Validation Accuracy: 84.615%\n",
      "time elapsed: 12.67345380783081 seconds\n",
      "Epoch 1 of iteration 4 training loss: 0.10061831891536713\n",
      "Validation Accuracy: 45.673%\n",
      "time elapsed: 12.663720846176147 seconds\n",
      "Epoch 2 of iteration 4 training loss: 0.0503316416144371\n",
      "Validation Accuracy: 66.346%\n",
      "time elapsed: 12.650766849517822 seconds\n",
      "Epoch 3 of iteration 4 training loss: 0.03588160753250122\n",
      "Validation Accuracy: 74.038%\n",
      "time elapsed: 12.679349899291992 seconds\n",
      "Epoch 4 of iteration 4 training loss: 0.025225915744900705\n",
      "Validation Accuracy: 70.192%\n",
      "time elapsed: 12.893450021743774 seconds\n",
      "Epoch 5 of iteration 4 training loss: 0.01993177769333124\n",
      "Validation Accuracy: 64.423%\n",
      "time elapsed: 12.664336919784546 seconds\n",
      "Epoch 6 of iteration 4 training loss: 0.01673912839218974\n",
      "Validation Accuracy: 75.481%\n",
      "time elapsed: 12.65195107460022 seconds\n",
      "Epoch 7 of iteration 4 training loss: 0.008932640554383397\n",
      "Validation Accuracy: 81.250%\n",
      "time elapsed: 12.658084869384766 seconds\n",
      "Epoch 8 of iteration 4 training loss: 0.006961175304837525\n",
      "Validation Accuracy: 79.327%\n",
      "time elapsed: 12.655980110168457 seconds\n",
      "Epoch 9 of iteration 4 training loss: 0.006633752244524658\n",
      "Validation Accuracy: 80.288%\n",
      "time elapsed: 12.665498971939087 seconds\n",
      "Epoch 10 of iteration 4 training loss: 0.003709852723404765\n",
      "Validation Accuracy: 81.731%\n",
      "time elapsed: 12.663919687271118 seconds\n"
     ]
    }
   ],
   "source": [
    "vivit_input = {\n",
    "'image_size': 28,\n",
    "'patch_size': 14, \n",
    "'num_classes': len(config[\"class_names\"]),\n",
    "'num_frames': 3, \n",
    "'in_channels': 1\n",
    "}\n",
    "\n",
    "iteration_num = 5\n",
    "\n",
    "for i in range(iteration_num):\n",
    "        \n",
    "    validation_acc, training_loss = training_loop(iteration=i, training_dataloader=training_generator, \n",
    "                                                  testing_dataloader=testing_generator, vivit_input=vivit_input)\n",
    "\n",
    "    \n",
    "    model_log['validation_accuracy'].append(validation_acc)\n",
    "    model_log['training_loss'].append(training_loss)"
   ]
  },
  {
   "cell_type": "code",
   "execution_count": 26,
   "id": "40cc7961",
   "metadata": {},
   "outputs": [
    {
     "data": {
      "image/png": "[encoded data removed]",
      "text/plain": [
       "<Figure size 432x288 with 1 Axes>"
      ]
     },
     "metadata": {
      "needs_background": "light"
     },
     "output_type": "display_data"
    }
   ],
   "source": [
    "import matplotlib.pyplot as plt \n",
    "\n",
    "plt.title(\"Training loss\")\n",
    "plt.xticks(np.arange(epochs))\n",
    "for i in range(iteration_num):\n",
    "    plt.plot(model_log['training_loss'][i], label=\"iteration {}\".format(i))\n",
    "plt.legend();\n"
   ]
  },
  {
   "cell_type": "code",
   "execution_count": 25,
   "id": "3668c56a",
   "metadata": {
    "scrolled": true
   },
   "outputs": [
    {
     "data": {
      "image/png": "[encoded data removed]",
      "text/plain": [
       "<Figure size 432x288 with 1 Axes>"
      ]
     },
     "metadata": {
      "needs_background": "light"
     },
     "output_type": "display_data"
    }
   ],
   "source": [
    "import matplotlib.pyplot as plt \n",
    "\n",
    "plt.title(\"Validation accuracy through each epoch(%)\")\n",
    "plt.xticks(np.arange(epochs))\n",
    "for i in range(iteration_num):\n",
    "    plt.plot(model_log['validation_accuracy'][i], label=\"iteration {}\".format(i))\n",
    "plt.legend();\n"
   ]
  },
  {
   "cell_type": "code",
   "execution_count": 28,
   "id": "7415d984",
   "metadata": {},
   "outputs": [],
   "source": [
    "# save results\n",
    "np.savez(\"vivit_toy_dataset_results_5_iter.npz\", \n",
    "             validation_accuracy=model_log['validation_accuracy'], \n",
    "            training_loss=model_log['training_loss'])\n",
    "    "
   ]
  }
 ],
 "metadata": {
  "kernelspec": {
   "display_name": "Python 3",
   "language": "python",
   "name": "python3"
  },
  "language_info": {
   "codemirror_mode": {
    "name": "ipython",
    "version": 3
   },
   "file_extension": ".py",
   "mimetype": "text/x-python",
   "name": "python",
   "nbconvert_exporter": "python",
   "pygments_lexer": "ipython3",
   "version": "3.8.8"
  }
 },
 "nbformat": 4,
 "nbformat_minor": 5
}
