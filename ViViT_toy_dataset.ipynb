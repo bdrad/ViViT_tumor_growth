{
 "cells": [
  {
   "cell_type": "code",
   "execution_count": 1,
   "id": "fd8ef81e",
   "metadata": {},
   "outputs": [],
   "source": [
    "# running ViViT with 3D MNIST dataset \n",
    "\n",
    "# Code source of implementation of ViViT: https://github.com/rishikksh20/ViViT-pytorch\n",
    "\n",
    "\n",
    "# Only model 2 from ViViT: A Video Transformer is implemented "
   ]
  },
  {
   "cell_type": "code",
   "execution_count": 1,
   "id": "ec2d3c61",
   "metadata": {},
   "outputs": [],
   "source": [
    "import torch\n",
    "from torch import nn, einsum\n",
    "import torch.nn.functional as F\n",
    "from einops import rearrange, repeat\n",
    "from einops.layers.torch import Rearrange\n",
    "from module import Attention, PreNorm, FeedForward\n",
    "from scipy import ndimage\n",
    "import numpy as np\n",
    "import random\n",
    "\n",
    "from MNIST_3D_data import MNIST_3D_Growing, MNIST_3D_Random_Rotation, MNIST_3D_Gaussian_Noise, scipy_clipped_zoom_3d\n",
    "from vivit import ViViT "
   ]
  },
  {
   "cell_type": "code",
   "execution_count": 2,
   "id": "38cd01a1",
   "metadata": {},
   "outputs": [
    {
     "name": "stdout",
     "output_type": "stream",
     "text": [
      "[ Using Seed :  10  ]\n"
     ]
    }
   ],
   "source": [
    "# set seed\n",
    "def seed_all(seed=10):\n",
    "\n",
    "\n",
    "    print(\"[ Using Seed : \", seed, \" ]\")\n",
    "\n",
    "    torch.manual_seed(seed)\n",
    "    torch.cuda.manual_seed_all(seed)\n",
    "    torch.cuda.manual_seed(seed)\n",
    "    np.random.seed(seed)\n",
    "    random.seed(seed)\n",
    "    torch.backends.cudnn.deterministic = True\n",
    "    torch.backends.cudnn.benchmark = False\n",
    "\n",
    "seed_all()"
   ]
  },
  {
   "cell_type": "markdown",
   "id": "19090303",
   "metadata": {},
   "source": [
    "### Loading 3DMnist data"
   ]
  },
  {
   "cell_type": "code",
   "execution_count": 3,
   "id": "aa25136c",
   "metadata": {},
   "outputs": [],
   "source": [
    "from torchvision import transforms, utils\n",
    "transforms = transforms.Compose([\n",
    "    MNIST_3D_Random_Rotation(max_angle = 15),\n",
    "    MNIST_3D_Gaussian_Noise(mean = 0, var = 0.000001)\n",
    "])"
   ]
  },
  {
   "cell_type": "code",
   "execution_count": 4,
   "id": "56b2cbfa",
   "metadata": {},
   "outputs": [],
   "source": [
    "config = {\n",
    "    'num_train_data': 1000,\n",
    "    'num_test_data' : 200,\n",
    "    'class_names' : ['non', \n",
    "                   'slow_g',\n",
    "                   'steady_g',\n",
    "                   'fast_g',\n",
    "                   'slow_s',\n",
    "                   'steady_s',\n",
    "                   'fast_s'],\n",
    "    'class_growth_rates' : {'non' : 1,\n",
    "                          'slow_g' :1.1,\n",
    "                          'steady_g':1.2,\n",
    "                          'fast_g': 1.3,\n",
    "                          'slow_s': 0.9,\n",
    "                          'steady_s': 0.8,\n",
    "                          'fast_s': 0.75}\n",
    "\n",
    "}"
   ]
  },
  {
   "cell_type": "code",
   "execution_count": 5,
   "id": "98b66d4d",
   "metadata": {},
   "outputs": [],
   "source": [
    "save_path = './dataset/3D_MNIST_vanilla.npz'\n",
    "training_data = MNIST_3D_Growing(save_path, scipy_clipped_zoom_3d, \n",
    "                                 config['num_train_data'],  \n",
    "                                 train = True,\n",
    "                                 transforms = transforms,\n",
    "                                 class_names = config['class_names'],  \n",
    "                                 class_growth_factors = config['class_growth_rates']\n",
    "                                 \n",
    "                                )\n",
    "testing_data = MNIST_3D_Growing(save_path, scipy_clipped_zoom_3d, \n",
    "                                 config['num_test_data'],\n",
    "                                 train = False,\n",
    "                                transforms = transforms,\n",
    "                                class_names = config['class_names'],  \n",
    "                                 class_growth_factors = config['class_growth_rates']\n",
    "                                \n",
    "                                )"
   ]
  },
  {
   "cell_type": "code",
   "execution_count": 6,
   "id": "144aab00",
   "metadata": {},
   "outputs": [],
   "source": [
    "def seed_worker(worker_id):\n",
    "    worker_seed = torch.initial_seed() % 2**32\n",
    "    numpy.random.seed(worker_seed)\n",
    "    random.seed(worker_seed)\n",
    "    \n",
    "g = torch.Generator()\n",
    "g.manual_seed(0)\n",
    "\n",
    "training_generator = torch.utils.data.DataLoader(training_data, batch_size=16,worker_init_fn=seed_worker,\n",
    "        generator=g)\n",
    "testing_generator = torch.utils.data.DataLoader(testing_data, batch_size=16,worker_init_fn=seed_worker,\n",
    "        generator=g)\n"
   ]
  },
  {
   "cell_type": "code",
   "execution_count": 7,
   "id": "3bc1c5a8",
   "metadata": {
    "scrolled": true
   },
   "outputs": [],
   "source": [
    "# train_features, train_labels = next(iter(training_generator))\n",
    "# train_features.shape\n",
    "# batch size = 16, time steps = 3, 28 x 28 x 28 image"
   ]
  },
  {
   "cell_type": "markdown",
   "id": "b0796874",
   "metadata": {},
   "source": [
    "### Initializing model"
   ]
  },
  {
   "cell_type": "code",
   "execution_count": 21,
   "id": "6aca138a",
   "metadata": {},
   "outputs": [],
   "source": [
    "# documenting the ViViT class from https://github.com/rishikksh20/ViViT-pytorch\n",
    "\n",
    "# def __init__(self, image_size, patch_size, num_classes, num_frames, dim = 192, depth = 4, heads = 3, pool = 'cls', in_channels = 3, dim_head = 64, dropout = 0.,\n",
    "#                 emb_dropout = 0., scale_dim = 4, ):\n",
    "        \n",
    "# image size: height = width of image \n",
    "# patch size: size of the little patches where an image will be divided into \n",
    "# num classes\n",
    "# num frames \n",
    "# dim: dimension of the input zl (rasterized image patch) \n",
    "# depth: number of attention layers\n",
    "# heads: number of heads in an attention layer \n",
    "# pool: pool type must be either cls (cls token) or mean (mean pooling)\n",
    "# in_channels: number of channels of input\n",
    "# dim_head: dimensions of the heads\n",
    "\n",
    "# vivit_input = {\n",
    "#     'image_size': 28,\n",
    "#     'patch_size': 14, \n",
    "#     'num_classes': len(config[\"class_names\"]),\n",
    "#     'num_frames': 3, \n",
    "#     'in_channels': 1\n",
    "# }\n",
    "\n",
    "# model = ViViT(image_size=vivit_input[\"image_size\"], \n",
    "#               patch_size=vivit_input[\"patch_size\"], \n",
    "#               num_classes=vivit_input[\"num_classes\"], \n",
    "#               num_frames=vivit_input[\"num_frames\"], \n",
    "#               in_channels=vivit_input[\"in_channels\"])\n",
    "\n",
    "\n"
   ]
  },
  {
   "cell_type": "code",
   "execution_count": 7,
   "id": "8eb98122",
   "metadata": {},
   "outputs": [
    {
     "name": "stdout",
     "output_type": "stream",
     "text": [
      "cpu\n"
     ]
    }
   ],
   "source": [
    "if torch.cuda.is_available():\n",
    "    print(torch.cuda.get_device_name(0))\n",
    "    device = torch.device('cuda:0')\n",
    "    torch.set_default_tensor_type('torch.cuda.FloatTensor')\n",
    "else:\n",
    "    print('cpu')\n",
    "    device = torch.device('cpu')"
   ]
  },
  {
   "cell_type": "code",
   "execution_count": 8,
   "id": "d3d0dd6b",
   "metadata": {},
   "outputs": [],
   "source": [
    "# source: https://github.com/bdrad/project-conv-meleon/blob/3DMNIST/ConvLSTM_3D_training_loop.ipynb\n",
    "\n",
    "def validate(model, data_loader):\n",
    "        model.eval()\n",
    "        correct = 0\n",
    "        with torch.no_grad():\n",
    "            for features, labels in data_loader:\n",
    "                features = features.to(torch.float)\n",
    "                \n",
    "                # reshaping input into the model to match the dimensions\n",
    "                # num frame x channels x height x width \n",
    "                features = torch.unsqueeze(torch.squeeze(features), 2)\n",
    "                \n",
    "                labels = labels.to(torch.long)\n",
    "                features = features.to(device)\n",
    "                labels = labels.to(device)\n",
    "                outputs = torch.argmax(model(features), dim=1)\n",
    "                correct += int(torch.sum(outputs==labels))\n",
    "        print(f'Validation Accuracy: {correct/(len(data_loader) * data_loader.batch_size) * 100:.3f}%')\n",
    "        return correct/(len(data_loader) * data_loader.batch_size) * 100\n",
    "\n",
    "def save_model(model, savepath):\n",
    "    torch.save(model.state_dict(), savepath)"
   ]
  },
  {
   "cell_type": "markdown",
   "id": "d9d7f4aa",
   "metadata": {},
   "source": [
    "### Training loop"
   ]
  },
  {
   "cell_type": "code",
   "execution_count": 10,
   "id": "de733b68",
   "metadata": {},
   "outputs": [],
   "source": [
    "import time\n",
    "\n",
    "def training_loop(num_iter, training_dataloader, testing_dataloader, vivit_input, verbose=False):\n",
    "    \n",
    "    \n",
    "    \n",
    "    model = ViViT(image_size=vivit_input[\"image_size\"], \n",
    "                  patch_size=vivit_input[\"patch_size\"], \n",
    "                  num_classes=vivit_input[\"num_classes\"], \n",
    "                  num_frames=vivit_input[\"num_frames\"], \n",
    "                  in_channels=vivit_input[\"in_channels\"])\n",
    "    \n",
    "    #hyperparameters\n",
    "    epochs=num_iter\n",
    "    learning_rate = 1e-4\n",
    "    criterion = nn.CrossEntropyLoss()\n",
    "    optimizer = torch.optim.Adam(model.parameters(), lr=learning_rate)\n",
    "\n",
    "    \n",
    "    validation_acc = []\n",
    "    training_loss = []\n",
    "    \n",
    "    for epoch in range(epochs):\n",
    "\n",
    "        start = time.time()\n",
    "\n",
    "        model.train()\n",
    "        current_train_loss = 0\n",
    "        length = 0\n",
    "        for x, y in training_dataloader:\n",
    "            optimizer.zero_grad()\n",
    "\n",
    "            # reshape data to fit into model \n",
    "            # x should have the dimensions batch x num frame x channels x height x width x depth\n",
    "            x = torch.squeeze(x)\n",
    "            x = torch.unsqueeze(x, 2)\n",
    "\n",
    "            x = x.to(device).type(torch.float32)\n",
    "            y = y.to(device).long()\n",
    "\n",
    "            output = model(x)\n",
    "            loss = criterion(output, y)\n",
    "            current_train_loss += float(loss.item())\n",
    "            length += x.shape[0]\n",
    "            # ===================backward====================\n",
    "            loss.backward()\n",
    "            optimizer.step()\n",
    "        # ===================log========================\n",
    "        current_train_loss = current_train_loss / length\n",
    "        \n",
    "        if verbose:\n",
    "            print(\"Epoch {} of iteration {} training loss: {}\".format(epoch+1, iteration, current_train_loss))\n",
    "        val_acc = validate(model, testing_dataloader)\n",
    "        validation_acc.append(val_acc)\n",
    "        training_loss.append(current_train_loss)\n",
    "\n",
    "        end = time.time()\n",
    "        \n",
    "        if verbose:\n",
    "            print(\"time elapsed: {} seconds\".format(end-start))\n",
    "            \n",
    "    return validation_acc, training_loss"
   ]
  },
  {
   "cell_type": "code",
   "execution_count": 20,
   "id": "051be2fe",
   "metadata": {
    "scrolled": false
   },
   "outputs": [
    {
     "name": "stdout",
     "output_type": "stream",
     "text": [
      "Epoch 1 of iteration 30 training loss: 0.09454602044820785\n",
      "Validation Accuracy: 51.923%\n",
      "time elapsed: 12.769099950790405 seconds\n",
      "Epoch 2 of iteration 30 training loss: 0.04904242074489593\n",
      "Validation Accuracy: 62.500%\n",
      "time elapsed: 12.957772016525269 seconds\n",
      "Epoch 3 of iteration 30 training loss: 0.03428671024739742\n",
      "Validation Accuracy: 67.308%\n",
      "time elapsed: 12.854721069335938 seconds\n",
      "Epoch 4 of iteration 30 training loss: 0.020483096338808536\n",
      "Validation Accuracy: 69.712%\n",
      "time elapsed: 12.714137077331543 seconds\n",
      "Epoch 5 of iteration 30 training loss: 0.01602186904475093\n",
      "Validation Accuracy: 75.962%\n",
      "time elapsed: 12.734232664108276 seconds\n",
      "Epoch 6 of iteration 30 training loss: 0.0125580192245543\n",
      "Validation Accuracy: 77.404%\n",
      "time elapsed: 12.736901998519897 seconds\n",
      "Epoch 7 of iteration 30 training loss: 0.010873724393546582\n",
      "Validation Accuracy: 85.096%\n",
      "time elapsed: 12.70076298713684 seconds\n",
      "Epoch 8 of iteration 30 training loss: 0.006286109389737248\n",
      "Validation Accuracy: 84.135%\n",
      "time elapsed: 12.674754858016968 seconds\n",
      "Epoch 9 of iteration 30 training loss: 0.0021670702397823334\n",
      "Validation Accuracy: 83.654%\n",
      "time elapsed: 12.700137853622437 seconds\n",
      "Epoch 10 of iteration 30 training loss: 0.0025469417243730278\n",
      "Validation Accuracy: 81.731%\n",
      "time elapsed: 12.886660099029541 seconds\n",
      "Epoch 11 of iteration 30 training loss: 0.0019235401407349856\n",
      "Validation Accuracy: 86.058%\n",
      "time elapsed: 12.897661924362183 seconds\n",
      "Epoch 12 of iteration 30 training loss: 0.0034326619850471615\n",
      "Validation Accuracy: 84.135%\n",
      "time elapsed: 12.911507844924927 seconds\n",
      "Epoch 13 of iteration 30 training loss: 0.002897593056317419\n",
      "Validation Accuracy: 82.212%\n",
      "time elapsed: 12.716392040252686 seconds\n",
      "Epoch 14 of iteration 30 training loss: 0.0022010939789470284\n",
      "Validation Accuracy: 84.135%\n",
      "time elapsed: 12.676135063171387 seconds\n",
      "Epoch 15 of iteration 30 training loss: 0.0006850583334453403\n",
      "Validation Accuracy: 87.981%\n",
      "time elapsed: 12.717972040176392 seconds\n",
      "Epoch 16 of iteration 30 training loss: 0.0002802278088638559\n",
      "Validation Accuracy: 86.538%\n",
      "time elapsed: 12.705595970153809 seconds\n",
      "Epoch 17 of iteration 30 training loss: 0.0001560717822285369\n",
      "Validation Accuracy: 87.500%\n",
      "time elapsed: 12.913329124450684 seconds\n",
      "Epoch 18 of iteration 30 training loss: 0.00013263064494822174\n",
      "Validation Accuracy: 87.981%\n",
      "time elapsed: 12.674609899520874 seconds\n",
      "Epoch 19 of iteration 30 training loss: 0.00011968260630965233\n",
      "Validation Accuracy: 87.981%\n",
      "time elapsed: 12.675198078155518 seconds\n",
      "Epoch 20 of iteration 30 training loss: 0.00010995840607210993\n",
      "Validation Accuracy: 87.981%\n",
      "time elapsed: 12.67510175704956 seconds\n",
      "Epoch 21 of iteration 30 training loss: 0.00010217027645558118\n",
      "Validation Accuracy: 87.981%\n",
      "time elapsed: 12.67085599899292 seconds\n",
      "Epoch 22 of iteration 30 training loss: 9.569225180894137e-05\n",
      "Validation Accuracy: 88.462%\n",
      "time elapsed: 12.688864946365356 seconds\n",
      "Epoch 23 of iteration 30 training loss: 9.016347886063159e-05\n",
      "Validation Accuracy: 87.981%\n",
      "time elapsed: 12.683064937591553 seconds\n",
      "Epoch 24 of iteration 30 training loss: 8.535448310431093e-05\n",
      "Validation Accuracy: 87.981%\n",
      "time elapsed: 12.811312913894653 seconds\n",
      "Epoch 25 of iteration 30 training loss: 8.110902196494863e-05\n",
      "Validation Accuracy: 87.981%\n",
      "time elapsed: 12.78270697593689 seconds\n",
      "Epoch 26 of iteration 30 training loss: 7.731734268600122e-05\n",
      "Validation Accuracy: 87.981%\n",
      "time elapsed: 12.731356859207153 seconds\n",
      "Epoch 27 of iteration 30 training loss: 7.389693107688799e-05\n",
      "Validation Accuracy: 87.981%\n",
      "time elapsed: 12.85708475112915 seconds\n",
      "Epoch 28 of iteration 30 training loss: 7.078659610124304e-05\n",
      "Validation Accuracy: 88.462%\n",
      "time elapsed: 12.824476957321167 seconds\n",
      "Epoch 29 of iteration 30 training loss: 6.793797720456496e-05\n",
      "Validation Accuracy: 88.462%\n",
      "time elapsed: 12.803894758224487 seconds\n",
      "Epoch 30 of iteration 30 training loss: 6.53135734028183e-05\n",
      "Validation Accuracy: 88.462%\n",
      "time elapsed: 12.75623083114624 seconds\n"
     ]
    }
   ],
   "source": [
    "model_log = {\n",
    "    \"validation_accuracy\": [], \n",
    "    \"training_loss\": []\n",
    "}\n",
    "\n",
    "vivit_input = {\n",
    "'image_size': 28,\n",
    "'patch_size': 14, \n",
    "'num_classes': len(config[\"class_names\"]),\n",
    "'num_frames': 3, \n",
    "'in_channels': 1\n",
    "}\n",
    "\n",
    "iteration = 30\n",
    "validation_acc, training_loss = training_loop(num_iter=iteration, training_dataloader=training_generator, \n",
    "                                                  testing_dataloader=testing_generator, vivit_input=vivit_input, verbose=True)\n",
    "\n",
    "    \n",
    "model_log['validation_accuracy'].append(validation_acc)\n",
    "model_log['training_loss'].append(training_loss)"
   ]
  },
  {
   "cell_type": "code",
   "execution_count": 25,
   "id": "af57cec5",
   "metadata": {},
   "outputs": [
    {
     "data": {
      "image/png": "[encoded data removed]",
      "text/plain": [
       "<Figure size 720x432 with 1 Axes>"
      ]
     },
     "metadata": {
      "needs_background": "light"
     },
     "output_type": "display_data"
    }
   ],
   "source": [
    "import matplotlib.pyplot as plt \n",
    "\n",
    "plt.figure(figsize=(10, 6))\n",
    "plt.title(\"Validation accuracy\")\n",
    "plt.xticks(range(iteration))\n",
    "plt.ylabel(\"Accuracy\")\n",
    "plt.xlabel(\"Iteration\")\n",
    "plt.plot(model_log['validation_accuracy'][0]);\n"
   ]
  },
  {
   "cell_type": "code",
   "execution_count": 26,
   "id": "44617e89",
   "metadata": {},
   "outputs": [
    {
     "data": {
      "image/png": "[encoded data removed]",
      "text/plain": [
       "<Figure size 720x432 with 1 Axes>"
      ]
     },
     "metadata": {
      "needs_background": "light"
     },
     "output_type": "display_data"
    }
   ],
   "source": [
    "plt.figure(figsize=(10, 6))\n",
    "plt.title(\"Training loss\")\n",
    "plt.xticks(range(iteration))\n",
    "plt.ylabel(\"Loss\")\n",
    "plt.xlabel(\"Iteration\")\n",
    "plt.plot(model_log['training_loss'][0]);"
   ]
  },
  {
   "cell_type": "code",
   "execution_count": null,
   "id": "2e0e22b8",
   "metadata": {},
   "outputs": [],
   "source": [
    "np.savez(\"iter30_vivit_toy\", \n",
    "         validation=model_log['validation_accuracy'][0], \n",
    "         training=y))"
   ]
  }
 ],
 "metadata": {
  "kernelspec": {
   "display_name": "Python 3",
   "language": "python",
   "name": "python3"
  },
  "language_info": {
   "codemirror_mode": {
    "name": "ipython",
    "version": 3
   },
   "file_extension": ".py",
   "mimetype": "text/x-python",
   "name": "python",
   "nbconvert_exporter": "python",
   "pygments_lexer": "ipython3",
   "version": "3.8.8"
  }
 },
 "nbformat": 4,
 "nbformat_minor": 5
}
