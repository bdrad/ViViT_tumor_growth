{
 "cells": [
  {
   "cell_type": "code",
   "execution_count": 1,
   "id": "fd8ef81e",
   "metadata": {},
   "outputs": [],
   "source": [
    "# running ViViT with 3D MNIST dataset \n",
    "\n",
    "# Code source of implementation of ViViT: https://github.com/rishikksh20/ViViT-pytorch\n",
    "# Only model 2 from ViViT: A Video Transformer is implemented "
   ]
  },
  {
   "cell_type": "code",
   "execution_count": 1,
   "id": "ec2d3c61",
   "metadata": {},
   "outputs": [],
   "source": [
    "import torch\n",
    "from torch import nn, einsum\n",
    "import torch.nn.functional as F\n",
    "from einops import rearrange, repeat\n",
    "from einops.layers.torch import Rearrange\n",
    "from module import Attention, PreNorm, FeedForward\n",
    "from scipy import ndimage\n",
    "import numpy as np\n",
    "\n",
    "from MNIST_3D_data import MNIST_3D_Growing, MNIST_3D_Random_Rotation, MNIST_3D_Gaussian_Noise, scipy_clipped_zoom_3d\n",
    "from vivit import ViViT "
   ]
  },
  {
   "cell_type": "markdown",
   "id": "19090303",
   "metadata": {},
   "source": [
    "### Loading 3DMnist data"
   ]
  },
  {
   "cell_type": "code",
   "execution_count": 2,
   "id": "aa25136c",
   "metadata": {},
   "outputs": [],
   "source": [
    "from torchvision import transforms, utils\n",
    "transforms = transforms.Compose([\n",
    "    MNIST_3D_Random_Rotation(max_angle = 15),\n",
    "    MNIST_3D_Gaussian_Noise(mean = 0, var = 0.000001)\n",
    "])"
   ]
  },
  {
   "cell_type": "code",
   "execution_count": 3,
   "id": "56b2cbfa",
   "metadata": {},
   "outputs": [],
   "source": [
    "config = {\n",
    "    'num_train_data': 1000,\n",
    "    'num_test_data' : 200,\n",
    "    'class_names' : ['non', \n",
    "                   'slow_g',\n",
    "                   'steady_g',\n",
    "                   'fast_g',\n",
    "                   'slow_s',\n",
    "                   'steady_s',\n",
    "                   'fast_s'],\n",
    "    'class_growth_rates' : {'non' : 1,\n",
    "                          'slow_g' :1.1,\n",
    "                          'steady_g':1.2,\n",
    "                          'fast_g': 1.3,\n",
    "                          'slow_s': 0.9,\n",
    "                          'steady_s': 0.8,\n",
    "                          'fast_s': 0.75}\n",
    "\n",
    "}"
   ]
  },
  {
   "cell_type": "code",
   "execution_count": 4,
   "id": "98b66d4d",
   "metadata": {},
   "outputs": [],
   "source": [
    "save_path = './dataset/3D_MNIST_vanilla.npz'\n",
    "training_data = MNIST_3D_Growing(save_path, scipy_clipped_zoom_3d, \n",
    "                                 config['num_train_data'],  \n",
    "                                 train = True,\n",
    "                                 transforms = transforms,\n",
    "                                 class_names = config['class_names'],  \n",
    "                                 class_growth_factors = config['class_growth_rates']\n",
    "                                 \n",
    "                                )\n",
    "testing_data = MNIST_3D_Growing(save_path, scipy_clipped_zoom_3d, \n",
    "                                 config['num_test_data'],\n",
    "                                 train = False,\n",
    "                                transforms = transforms,\n",
    "                                class_names = config['class_names'],  \n",
    "                                 class_growth_factors = config['class_growth_rates']\n",
    "                                \n",
    "                                )"
   ]
  },
  {
   "cell_type": "code",
   "execution_count": 5,
   "id": "48c7be3a",
   "metadata": {},
   "outputs": [],
   "source": [
    "training_generator = torch.utils.data.DataLoader(training_data, batch_size=16)\n",
    "testing_generator = torch.utils.data.DataLoader(testing_data, batch_size=16)"
   ]
  },
  {
   "cell_type": "code",
   "execution_count": 14,
   "id": "3bc1c5a8",
   "metadata": {
    "scrolled": true
   },
   "outputs": [
    {
     "data": {
      "text/plain": [
       "torch.Size([16, 3, 28, 1, 28, 28])"
      ]
     },
     "execution_count": 14,
     "metadata": {},
     "output_type": "execute_result"
    }
   ],
   "source": [
    "# train_features, train_labels = next(iter(training_generator))\n",
    "# train_features.shape\n",
    "# batch size = 16, time steps = 3, 28 x 28 x 28 image"
   ]
  },
  {
   "cell_type": "markdown",
   "id": "b0796874",
   "metadata": {},
   "source": [
    "### Initializing model"
   ]
  },
  {
   "cell_type": "code",
   "execution_count": 8,
   "id": "6aca138a",
   "metadata": {},
   "outputs": [],
   "source": [
    "# documenting the ViViT class from https://github.com/rishikksh20/ViViT-pytorch\n",
    "\n",
    "# def __init__(self, image_size, patch_size, num_classes, num_frames, dim = 192, depth = 4, heads = 3, pool = 'cls', in_channels = 3, dim_head = 64, dropout = 0.,\n",
    "#                 emb_dropout = 0., scale_dim = 4, ):\n",
    "        \n",
    "# image size: height = width of image \n",
    "# patch size: size of the little patches where an image will be divided into \n",
    "# num classes\n",
    "# num frames \n",
    "# dim: dimension of the input zl (rasterized image patch) \n",
    "# depth: number of attention layers\n",
    "# heads: number of heads in an attention layer \n",
    "# pool: pool type must be either cls (cls token) or mean (mean pooling)\n",
    "# in_channels: number of channels of input\n",
    "# dim_head: dimensions of the heads\n",
    "\n",
    "vivit_input = {\n",
    "    'image_size': 28,\n",
    "    'patch_size': 14, \n",
    "    'num_classes': len(config[\"class_names\"]),\n",
    "    'num_frames': 3, \n",
    "    'in_channels': 1\n",
    "}\n",
    "\n",
    "model = ViViT(image_size=vivit_input[\"image_size\"], \n",
    "              patch_size=vivit_input[\"patch_size\"], \n",
    "              num_classes=vivit_input[\"num_classes\"], \n",
    "              num_frames=vivit_input[\"num_frames\"], \n",
    "              in_channels=vivit_input[\"in_channels\"])\n",
    "\n",
    "\n"
   ]
  },
  {
   "cell_type": "code",
   "execution_count": 13,
   "id": "8eb98122",
   "metadata": {},
   "outputs": [
    {
     "name": "stdout",
     "output_type": "stream",
     "text": [
      "cpu\n"
     ]
    }
   ],
   "source": [
    "if torch.cuda.is_available():\n",
    "    print(torch.cuda.get_device_name(0))\n",
    "    device = torch.device('cuda:0')\n",
    "    torch.set_default_tensor_type('torch.cuda.FloatTensor')\n",
    "else:\n",
    "    print('cpu')\n",
    "    device = torch.device('cpu')"
   ]
  },
  {
   "cell_type": "code",
   "execution_count": 9,
   "id": "d3d0dd6b",
   "metadata": {},
   "outputs": [],
   "source": [
    "# source: https://github.com/bdrad/project-conv-meleon/blob/3DMNIST/ConvLSTM_3D_training_loop.ipynb\n",
    "\n",
    "def validate(model, data_loader):\n",
    "        model.eval()\n",
    "        correct = 0\n",
    "        with torch.no_grad():\n",
    "            for features, labels in data_loader:\n",
    "                features = features.to(torch.float)\n",
    "                \n",
    "                # reshaping input into the model to match the dimensions\n",
    "                # num frame x channels x height x width \n",
    "                features = torch.unsqueeze(torch.squeeze(features), 2)\n",
    "                \n",
    "                labels = labels.to(torch.long)\n",
    "                features = features.to(device)\n",
    "                labels = labels.to(device)\n",
    "                outputs = torch.argmax(model(features), dim=1)\n",
    "                correct += int(torch.sum(outputs==labels))\n",
    "        print(f'Validation Accuracy: {correct/(len(data_loader) * data_loader.batch_size) * 100:.3f}%')\n",
    "        return correct/(len(data_loader) * data_loader.batch_size) * 100\n",
    "\n",
    "def save_model(model, savepath):\n",
    "    torch.save(model.state_dict(), savepath)"
   ]
  },
  {
   "cell_type": "markdown",
   "id": "d9d7f4aa",
   "metadata": {},
   "source": [
    "### Training loop"
   ]
  },
  {
   "cell_type": "code",
   "execution_count": 10,
   "id": "083a535b",
   "metadata": {},
   "outputs": [],
   "source": [
    "#hyperparameters\n",
    "epochs=10\n",
    "learning_rate = 1e-4\n",
    "criterion = nn.CrossEntropyLoss()\n",
    "optimizer = torch.optim.Adam(model.parameters(), lr=learning_rate)\n",
    "\n",
    "model_log = {\n",
    "    \"validation_accuracy\": [], \n",
    "    \"training_loss\": []\n",
    "}"
   ]
  },
  {
   "cell_type": "code",
   "execution_count": 14,
   "id": "de733b68",
   "metadata": {},
   "outputs": [
    {
     "name": "stdout",
     "output_type": "stream",
     "text": [
      "Epoch 1 training loss: 0.10251504302024841\n",
      "Validation Accuracy: 49.038%\n",
      "time elapsed: 12.703698873519897 seconds\n",
      "Epoch 2 training loss: 0.056313783466815946\n",
      "Validation Accuracy: 59.615%\n",
      "time elapsed: 12.746339082717896 seconds\n",
      "Epoch 3 training loss: 0.03853002327680588\n",
      "Validation Accuracy: 63.942%\n",
      "time elapsed: 12.772907972335815 seconds\n",
      "Epoch 4 training loss: 0.02755959266424179\n",
      "Validation Accuracy: 74.038%\n",
      "time elapsed: 12.5641188621521 seconds\n",
      "Epoch 5 training loss: 0.02396791535615921\n",
      "Validation Accuracy: 79.808%\n",
      "time elapsed: 12.45219111442566 seconds\n",
      "Epoch 6 training loss: 0.016171586778014897\n",
      "Validation Accuracy: 79.327%\n",
      "time elapsed: 12.444457054138184 seconds\n",
      "Epoch 7 training loss: 0.009526586091145874\n",
      "Validation Accuracy: 83.173%\n",
      "time elapsed: 12.448561906814575 seconds\n",
      "Epoch 8 training loss: 0.00755807566922158\n",
      "Validation Accuracy: 74.038%\n",
      "time elapsed: 12.440860986709595 seconds\n",
      "Epoch 9 training loss: 0.006996331023052335\n",
      "Validation Accuracy: 82.692%\n",
      "time elapsed: 12.44448208808899 seconds\n",
      "Epoch 10 training loss: 0.0042335452865809205\n",
      "Validation Accuracy: 79.327%\n",
      "time elapsed: 12.485738754272461 seconds\n"
     ]
    }
   ],
   "source": [
    "import time\n",
    "for epoch in range(epochs):\n",
    "    \n",
    "    start = time.time()\n",
    "    \n",
    "    model.train()\n",
    "    current_train_loss = 0\n",
    "    length = 0\n",
    "    for x, y in training_generator:\n",
    "        optimizer.zero_grad()\n",
    "        \n",
    "        # reshape data to fit into model \n",
    "        # x should have the dimensions batch x num frame x channels x height x width x depth\n",
    "        x = torch.squeeze(x)\n",
    "        x = torch.unsqueeze(x, 2)\n",
    "        \n",
    "        x = x.to(device).type(torch.float32)\n",
    "        y = y.to(device).long()\n",
    "        \n",
    "        output = model(x)\n",
    "        loss = criterion(output, y)\n",
    "        current_train_loss += float(loss.item())\n",
    "        length += x.shape[0]\n",
    "        # ===================backward====================\n",
    "        loss.backward()\n",
    "        optimizer.step()\n",
    "    # ===================log========================\n",
    "    current_train_loss = current_train_loss / length\n",
    "    \n",
    "    print(\"Epoch {} training loss: {}\".format(epoch+1, current_train_loss))\n",
    "    val_acc = validate(model, testing_generator)\n",
    "    model_log['validation_accuracy'].append(val_acc)\n",
    "    model_log['training_loss'].append(current_train_loss)\n",
    "    \n",
    "    end = time.time()\n",
    "    print(\"time elapsed: {} seconds\".format(end-start))"
   ]
  },
  {
   "cell_type": "code",
   "execution_count": 15,
   "id": "3668c56a",
   "metadata": {},
   "outputs": [
    {
     "data": {
      "image/png": "[encoded data removed]",
      "text/plain": [
       "<Figure size 432x288 with 1 Axes>"
      ]
     },
     "metadata": {
      "needs_background": "light"
     },
     "output_type": "display_data"
    }
   ],
   "source": [
    "import matplotlib.pyplot as plt \n",
    "\n",
    "plt.title(\"Validation accuracy through each epoch(%)\")\n",
    "plt.xticks(np.arange(epochs))\n",
    "plt.plot(model_log['validation_accuracy'], label=\"validation accuracy\");"
   ]
  },
  {
   "cell_type": "code",
   "execution_count": 16,
   "id": "40cc7961",
   "metadata": {},
   "outputs": [
    {
     "data": {
      "image/png": "[encoded data removed]",
      "text/plain": [
       "<Figure size 432x288 with 1 Axes>"
      ]
     },
     "metadata": {
      "needs_background": "light"
     },
     "output_type": "display_data"
    }
   ],
   "source": [
    "plt.title(\"Training loss\")\n",
    "plt.xticks(np.arange(epochs))\n",
    "plt.plot(model_log['training_loss'], label=\"training loss\");"
   ]
  },
  {
   "cell_type": "code",
   "execution_count": null,
   "id": "051be2fe",
   "metadata": {},
   "outputs": [],
   "source": []
  }
 ],
 "metadata": {
  "kernelspec": {
   "display_name": "Python 3",
   "language": "python",
   "name": "python3"
  },
  "language_info": {
   "codemirror_mode": {
    "name": "ipython",
    "version": 3
   },
   "file_extension": ".py",
   "mimetype": "text/x-python",
   "name": "python",
   "nbconvert_exporter": "python",
   "pygments_lexer": "ipython3",
   "version": "3.8.8"
  }
 },
 "nbformat": 4,
 "nbformat_minor": 5
}
